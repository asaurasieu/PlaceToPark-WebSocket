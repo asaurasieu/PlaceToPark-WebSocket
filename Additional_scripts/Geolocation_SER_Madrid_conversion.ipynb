{
  "cells": [
    {
      "cell_type": "markdown",
      "metadata": {
        "id": "izDsdBjd90KV"
      },
      "source": [
        "Integrate the cartographic projections and coordinate transformations library"
      ]
    },
    {
      "cell_type": "code",
      "execution_count": null,
      "metadata": {
        "colab": {
          "base_uri": "https://localhost:8080/"
        },
        "id": "gfX6jwOl9kLC",
        "outputId": "f412fd3a-d5c8-4330-a296-fb1e9e927c37"
      },
      "outputs": [
        {
          "name": "stdout",
          "output_type": "stream",
          "text": [
            "Requirement already satisfied: pyproj in /usr/local/lib/python3.11/dist-packages (3.7.1)\n",
            "Requirement already satisfied: pandas in /usr/local/lib/python3.11/dist-packages (2.2.2)\n",
            "Requirement already satisfied: certifi in /usr/local/lib/python3.11/dist-packages (from pyproj) (2025.1.31)\n",
            "Requirement already satisfied: numpy>=1.23.2 in /usr/local/lib/python3.11/dist-packages (from pandas) (2.0.2)\n",
            "Requirement already satisfied: python-dateutil>=2.8.2 in /usr/local/lib/python3.11/dist-packages (from pandas) (2.8.2)\n",
            "Requirement already satisfied: pytz>=2020.1 in /usr/local/lib/python3.11/dist-packages (from pandas) (2025.1)\n",
            "Requirement already satisfied: tzdata>=2022.7 in /usr/local/lib/python3.11/dist-packages (from pandas) (2025.1)\n",
            "Requirement already satisfied: six>=1.5 in /usr/local/lib/python3.11/dist-packages (from python-dateutil>=2.8.2->pandas) (1.17.0)\n"
          ]
        }
      ],
      "source": [
        "!pip install pyproj pandas"
      ]
    },
    {
      "cell_type": "code",
      "execution_count": null,
      "metadata": {
        "colab": {
          "base_uri": "https://localhost:8080/"
        },
        "id": "dByaBF3Z95_p",
        "outputId": "adb6c082-727f-4e07-9940-c583ad914d2b"
      },
      "outputs": [
        {
          "name": "stderr",
          "output_type": "stream",
          "text": [
            "<ipython-input-2-8c9c29112c29>:11: FutureWarning: This function is deprecated. See: https://pyproj4.github.io/pyproj/stable/gotchas.html#upgrading-to-pyproj-2-from-pyproj-1\n",
            "  lon, lat = transform(utm_proj, latlon_proj, x, y)\n"
          ]
        }
      ],
      "source": [
        "import pandas as pd\n",
        "from pyproj import Proj, transform\n",
        "\n",
        "file_path = 'calles_SER_2024.xlsx'\n",
        "data = pd.read_excel(file_path)\n",
        "\n",
        "utm_proj = Proj(proj='utm', zone=30, datum=\"WGS84\")\n",
        "latlon_proj = Proj(proj=\"latlong\", datum=\"WGS84\")\n",
        "\n",
        "def convert_utm_to_latlon(x,y):\n",
        "  lon, lat = transform(utm_proj, latlon_proj, x, y)\n",
        "  return lat, lon\n",
        "\n",
        "data[['latitude', 'longitude']] = data.apply(\n",
        "    lambda row: pd.Series(convert_utm_to_latlon(row['gis_x'], row['gis_y'])), axis=1\n",
        ")\n",
        "\n",
        "output_file = \"coordinates_calles_SER_2024.xlsx\"\n",
        "data = pd.read_excel(output_file)"
      ]
    },
    {
      "cell_type": "code",
      "execution_count": null,
      "metadata": {
        "colab": {
          "base_uri": "https://localhost:8080/"
        },
        "id": "ffTPbWMq5lQK",
        "outputId": "789c8ea9-d294-4345-9f76-d9ba1df2b018"
      },
      "outputs": [
        {
          "name": "stdout",
          "output_type": "stream",
          "text": [
            "Converted coordinates saved to coordinates_calles_SER_2024.xlsx\n"
          ]
        }
      ],
      "source": [
        "data.to_excel(output_file, index=False)\n",
        "print(f\"Converted coordinates saved to {output_file}\")"
      ]
    },
    {
      "cell_type": "markdown",
      "metadata": {
        "id": "zylY8xe00sYs"
      },
      "source": [
        "### Convert into JSON data"
      ]
    },
    {
      "cell_type": "code",
      "execution_count": 7,
      "metadata": {
        "colab": {
          "base_uri": "https://localhost:8080/"
        },
        "id": "JnUZqm910uXG",
        "outputId": "2d3d1811-8301-46b0-af5a-72f7fe0f3eaf"
      },
      "outputs": [
        {
          "name": "stdout",
          "output_type": "stream",
          "text": [
            "Json file created: output.json\n"
          ]
        }
      ],
      "source": [
        "import pandas as pd\n",
        "file_path = 'coordinates_calles_SER_2024.xlsx'\n",
        "\n",
        "data = pd.read_excel(file_path)\n",
        "\n",
        "json_file = 'output.json'\n",
        "data.to_json(json_file, orient='records', lines=False)\n",
        "print(f\"Json file created: {json_file}\")"
      ]
    },
    {
      "cell_type": "code",
      "execution_count": null,
      "metadata": {
        "colab": {
          "base_uri": "https://localhost:8080/"
        },
        "id": "oJNf8ERp-RoQ",
        "outputId": "a7bef7bf-4921-40b3-b57a-ca05e05cfae5"
      },
      "outputs": [
        {
          "name": "stdout",
          "output_type": "stream",
          "text": [
            "GeoJSON file created: output.geojson\n"
          ]
        }
      ],
      "source": [
        "import json\n",
        "import pandas as pd\n",
        "\n",
        "with open('output.json', 'r') as f:\n",
        "    data = json.load(f)\n",
        "\n",
        "geojson = {\n",
        "    \"type\": \"FeatureCollection\",\n",
        "    \"features\": []\n",
        "}\n",
        "\n",
        "for row in data:\n",
        "    feature = {\n",
        "        \"type\": \"Feature\",\n",
        "        \"geometry\": {\n",
        "            \"type\": \"Point\",\n",
        "            \"coordinates\": [row['longitude'], row['latitude']]\n",
        "        },\n",
        "        \"properties\": {\n",
        "            \"district\": row.get('distrito', ''),\n",
        "            \"neighborhood\": row.get('barrio', ''),\n",
        "            \"street\": row.get('calle', ''),\n",
        "            \"property_number\": row.get('numero_finca', ''),\n",
        "            \"color\": row.get('color', ''),\n",
        "            \"available spots\": row.get('numero_plazas', ''),\n",
        "        }\n",
        "    }\n",
        "    geojson[\"features\"].append(feature)\n",
        "\n",
        "with open('output.geojson', 'w') as f:\n",
        "    json.dump(geojson, f, indent=2)\n",
        "\n",
        "print(\"GeoJSON file created: output.geojson\")\n"
      ]
    }
  ],
  "metadata": {
    "colab": {
      "provenance": []
    },
    "kernelspec": {
      "display_name": "Python 3",
      "name": "python3"
    },
    "language_info": {
      "name": "python"
    }
  },
  "nbformat": 4,
  "nbformat_minor": 0
}
